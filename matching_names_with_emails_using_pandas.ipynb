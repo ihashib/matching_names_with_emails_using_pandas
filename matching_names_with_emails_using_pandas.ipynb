{
 "cells": [
  {
   "cell_type": "code",
   "execution_count": null,
   "metadata": {},
   "outputs": [
    {
     "name": "stdout",
     "output_type": "stream",
     "text": [
      "Collecting pandas\n",
      "  Using cached https://files.pythonhosted.org/packages/c0/95/cb9820560a2713384ef49060b0087dfa2591c6db6f240215c2bce1f4211c/pandas-1.0.5-cp36-cp36m-manylinux1_x86_64.whl\n",
      "Collecting python-dateutil>=2.6.1 (from pandas)\n",
      "  Using cached https://files.pythonhosted.org/packages/d4/70/d60450c3dd48ef87586924207ae8907090de0b306af2bce5d134d78615cb/python_dateutil-2.8.1-py2.py3-none-any.whl\n",
      "Collecting pytz>=2017.2 (from pandas)\n",
      "  Using cached https://files.pythonhosted.org/packages/4f/a4/879454d49688e2fad93e59d7d4efda580b783c745fd2ec2a3adf87b0808d/pytz-2020.1-py2.py3-none-any.whl\n",
      "Collecting numpy>=1.13.3 (from pandas)\n",
      "  Using cached https://files.pythonhosted.org/packages/00/16/476826a84d545424084499763248abbbdc73d065168efed9aa71cdf2a7dc/numpy-1.19.0-cp36-cp36m-manylinux1_x86_64.whl\n",
      "Collecting six>=1.5 (from python-dateutil>=2.6.1->pandas)\n",
      "  Using cached https://files.pythonhosted.org/packages/ee/ff/48bde5c0f013094d729fe4b0316ba2a24774b3ff1c52d924a8a4cb04078a/six-1.15.0-py2.py3-none-any.whl\n",
      "Installing collected packages: six, python-dateutil, pytz, numpy, pandas\n",
      "Successfully installed numpy-1.19.0 pandas-1.0.5 python-dateutil-2.8.1 pytz-2020.1 six-1.15.0\n"
     ]
    }
   ],
   "source": [
    "#place the excel file in the same folder as this file\n",
    "#press shift+enter to run\n",
    "#a new file should apear in the folder witht the fixed emails\n",
    "\n",
    "!pip3 install pandas\n",
    "import pandas as pd\n",
    "\n",
    "\n",
    "#for ods files in linux\n",
    "#!pip3 install pandas_ods_reader\n",
    "#for excel files\n",
    "!pip3 install xlrd\n",
    "\n",
    "#for ods files in linux\n",
    "#from pandas_ods_reader import read_ods\n",
    "\n",
    "#df = read_ods('ECO102_Sec-3_Emails.ods', 1)\n",
    "df = pd.read_excel('ECO102_Sec-3_Emails.xls')\n",
    "\n",
    "df.head()\n",
    "\n",
    "df = df.iloc[1:]\n",
    "del df['Unnamed: 0']\n",
    "del df['Unnamed: 3']\n",
    "del df['Unnamed: 4']\n",
    "del df['Unnamed: 5']\n",
    "\n",
    "new_header = df.iloc[0] \n",
    "df = df[1:] \n",
    "df.columns = new_header\n",
    "\n",
    "df.columns = ['SL', 'Name', 'Emails']\n",
    "\n",
    "df.head()\n",
    "\n",
    "email = df.loc[2, 'Emails']\n",
    "email\n",
    "\n",
    "emails = []\n",
    "emails = email.split(',')\n",
    "\n",
    "i = 2\n",
    "for e in emails:\n",
    "    df.at[i, 'Emails'] = e\n",
    "    i += 1\n",
    "\n",
    "df.head(40)\n",
    "\n",
    "df.to_csv('ECO102_sec03_SIF_fixed.csv')"
   ]
  },
  {
   "cell_type": "code",
   "execution_count": null,
   "metadata": {},
   "outputs": [],
   "source": []
  }
 ],
 "metadata": {
  "kernelspec": {
   "display_name": "Python 3",
   "language": "python",
   "name": "python3"
  },
  "language_info": {
   "codemirror_mode": {
    "name": "ipython",
    "version": 3
   },
   "file_extension": ".py",
   "mimetype": "text/x-python",
   "name": "python",
   "nbconvert_exporter": "python",
   "pygments_lexer": "ipython3",
   "version": "3.6.9"
  }
 },
 "nbformat": 4,
 "nbformat_minor": 4
}
